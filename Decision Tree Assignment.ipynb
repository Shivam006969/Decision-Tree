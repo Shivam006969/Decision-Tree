{
 "cells": [
  {
   "cell_type": "markdown",
   "id": "6ba80a5e-10f3-4300-aef5-ca4207d99ab1",
   "metadata": {},
   "source": [
    "### 6. Write a Python program to:\n",
    "- Load the Iris Dataset\n",
    "- Train a Decision Tree Classifier using the Gini criterion\n",
    "- Print the model’s accuracy and feature importances"
   ]
  },
  {
   "cell_type": "code",
   "execution_count": 27,
   "id": "81f0af15-b10a-456a-937e-9c3f5a69cc6b",
   "metadata": {},
   "outputs": [
    {
     "name": "stdout",
     "output_type": "stream",
     "text": [
      "Model Accuracy: 0.97\n",
      "\n",
      "Feature Importances:\n",
      "sepal length (cm)   : 0.017\n",
      "sepal width (cm)    : 0.000\n",
      "petal length (cm)   : 0.517\n",
      "petal width (cm)    : 0.467\n"
     ]
    }
   ],
   "source": [
    "from sklearn.datasets import load_iris\n",
    "from sklearn.tree import DecisionTreeClassifier\n",
    "from sklearn.model_selection import train_test_split\n",
    "from sklearn.metrics import accuracy_score\n",
    "\n",
    "# Load the Iris dataset\n",
    "iris = load_iris()\n",
    "x = iris.data\n",
    "y = iris.target\n",
    "feature_names = iris.feature_names\n",
    "target_names = iris.target_names\n",
    "\n",
    "# Split the data into training and test sets\n",
    "x_train, x_test, y_train, y_test = train_test_split(\n",
    "    x, y, test_size=0.2, random_state=4\n",
    ")\n",
    "\n",
    "# Train a Decision Tree Classifier using Gini criterion\n",
    "clf = DecisionTreeClassifier(criterion='gini', random_state=4)\n",
    "clf.fit(x_train, y_train)\n",
    "\n",
    "# Predict and print accuracy\n",
    "y_pred = clf.predict(x_test)\n",
    "accuracy = accuracy_score(y_test, y_pred)\n",
    "print(f\"Model Accuracy: {accuracy:.2f}\")\n",
    "\n",
    "# Print feature importances\n",
    "print(\"\\nFeature Importances:\")\n",
    "for feature, importance in zip(feature_names, clf.feature_importances_):\n",
    "    print(f\"{feature:20}: {importance:.3f}\")"
   ]
  },
  {
   "cell_type": "markdown",
   "id": "31a28fc2-54dd-4ca8-b0ec-7aa1d3a57b07",
   "metadata": {},
   "source": [
    "### 7. Write a Python program to:\n",
    "- Load the Iris Dataset\n",
    "- Train a Decision Tree Classifier with max_depth=3 and compare its accuracy to a fully-grown tree."
   ]
  },
  {
   "cell_type": "code",
   "execution_count": 33,
   "id": "4259c55b-61d1-4853-a94b-650a3ce55522",
   "metadata": {},
   "outputs": [
    {
     "name": "stdout",
     "output_type": "stream",
     "text": [
      "Fully-grown Tree Accuracy: 0.97\n",
      "Shallow Tree Accuracy (max_depth=3): 0.97\n"
     ]
    }
   ],
   "source": [
    "from sklearn.datasets import load_iris\n",
    "from sklearn.tree import DecisionTreeClassifier\n",
    "from sklearn.model_selection import train_test_split\n",
    "from sklearn.metrics import accuracy_score\n",
    "\n",
    "# 📥 Load the dataset\n",
    "iris = load_iris()\n",
    "x, y = iris.data, iris.target\n",
    "\n",
    "# Split into training and test sets\n",
    "x_train, x_test, y_train, y_test = train_test_split(\n",
    "    x, y, test_size=0.2, random_state=1\n",
    ")\n",
    "\n",
    "# Fully-grown tree (no max_depth constraint)\n",
    "full_tree = DecisionTreeClassifier(criterion='gini', random_state=1)\n",
    "full_tree.fit(x_train, y_train)\n",
    "full_pred = full_tree.predict(x_test)\n",
    "full_accuracy = accuracy_score(y_test, full_pred)\n",
    "\n",
    "# Limited-depth tree (max_depth=3)\n",
    "shallow_tree = DecisionTreeClassifier(criterion='gini', max_depth=3, random_state=1)\n",
    "shallow_tree.fit(x_train, y_train)\n",
    "shallow_pred = shallow_tree.predict(x_test)\n",
    "shallow_accuracy = accuracy_score(y_test, shallow_pred)\n",
    "\n",
    "# Output comparison\n",
    "print(f\"Fully-grown Tree Accuracy: {full_accuracy:.2f}\")\n",
    "print(f\"Shallow Tree Accuracy (max_depth=3): {shallow_accuracy:.2f}\")"
   ]
  },
  {
   "cell_type": "markdown",
   "id": "fd3fa53f-d2b2-4325-8add-9d7fd25e0b22",
   "metadata": {},
   "source": [
    "### 8. Write a Python program to:\n",
    "- Load the Boston Housing Dataset\n",
    "- Train a Decision Tree Regressor\n",
    "- Print the Mean Squared Error (MSE) and feature importances"
   ]
  },
  {
   "cell_type": "code",
   "execution_count": 46,
   "id": "9ba0d7d7-eb75-4934-9d93-dbb4e4a31c06",
   "metadata": {},
   "outputs": [
    {
     "name": "stdout",
     "output_type": "stream",
     "text": [
      "Mean Squared Error: 0.50\n",
      "\n",
      "Feature Importances:\n",
      "MedInc              : 0.529\n",
      "HouseAge            : 0.052\n",
      "AveRooms            : 0.053\n",
      "AveBedrms           : 0.029\n",
      "Population          : 0.031\n",
      "AveOccup            : 0.131\n",
      "Latitude            : 0.094\n",
      "Longitude           : 0.083\n"
     ]
    }
   ],
   "source": [
    "#Boston Housing Dataset is removed from Sci-Kit Learning, so I'm making making model on California Housing Dataset\n",
    "from sklearn.datasets import fetch_california_housing\n",
    "from sklearn.tree import DecisionTreeRegressor\n",
    "from sklearn.model_selection import train_test_split\n",
    "from sklearn.metrics import mean_squared_error\n",
    "\n",
    "# Load California Housing dataset\n",
    "housing = fetch_california_housing()\n",
    "X = housing.data\n",
    "y = housing.target\n",
    "feature_names = housing.feature_names\n",
    "\n",
    "# Train/test split\n",
    "X_train, X_test, y_train, y_test = train_test_split(\n",
    "    X, y, test_size=0.2, random_state=42\n",
    ")\n",
    "\n",
    "# Train Decision Tree Regressor\n",
    "regressor = DecisionTreeRegressor(random_state=42)\n",
    "regressor.fit(X_train, y_train)\n",
    "\n",
    "# Predict and calculate MSE\n",
    "y_pred = regressor.predict(X_test)\n",
    "mse = mean_squared_error(y_test, y_pred)\n",
    "print(f\"Mean Squared Error: {mse:.2f}\")\n",
    "\n",
    "# Feature Importances\n",
    "print(\"\\nFeature Importances:\")\n",
    "for name, importance in zip(feature_names, regressor.feature_importances_):\n",
    "    print(f\"{name:20}: {importance:.3f}\")"
   ]
  },
  {
   "cell_type": "markdown",
   "id": "c99a5461-7324-4f12-b124-874af10167a2",
   "metadata": {},
   "source": [
    "### 9. Write a Python program to:\n",
    "- Load the Iris Dataset\n",
    "- Tune the Decision Tree’s max_depth and min_samples_split using GridSearchCV\n",
    "- Print the best parameters and the resulting model accuracy"
   ]
  },
  {
   "cell_type": "code",
   "execution_count": 51,
   "id": "ec275e9e-e35b-4ee4-aad6-a42ef0f2d723",
   "metadata": {},
   "outputs": [
    {
     "name": "stdout",
     "output_type": "stream",
     "text": [
      "Best Parameters: {'max_depth': 4, 'min_samples_split': 2}\n",
      "Test Set Accuracy: 0.97\n"
     ]
    }
   ],
   "source": [
    "from sklearn.datasets import load_iris\n",
    "from sklearn.tree import DecisionTreeClassifier\n",
    "from sklearn.model_selection import train_test_split, GridSearchCV\n",
    "from sklearn.metrics import accuracy_score\n",
    "\n",
    "# Load the Iris dataset\n",
    "iris = load_iris()\n",
    "X = iris.data\n",
    "y = iris.target\n",
    "\n",
    "# Train/test split\n",
    "X_train, X_test, y_train, y_test = train_test_split(\n",
    "    X, y, test_size=0.2, random_state=1\n",
    ")\n",
    "\n",
    "# Create a Decision Tree Classifier\n",
    "dtree = DecisionTreeClassifier(random_state=1)\n",
    "\n",
    "# Define the parameter grid\n",
    "param_grid = {\n",
    "    'max_depth': [2, 3, 4, 5, 6],\n",
    "    'min_samples_split': [2, 4, 6, 8]\n",
    "}\n",
    "\n",
    "# GridSearchCV for hyperparameter tuning\n",
    "grid_search = GridSearchCV(\n",
    "    estimator=dtree,\n",
    "    param_grid=param_grid,\n",
    "    cv=5,\n",
    "    scoring='accuracy',\n",
    "    n_jobs=-1\n",
    ")\n",
    "\n",
    "# Fit the grid search to the training data\n",
    "grid_search.fit(X_train, y_train)\n",
    "\n",
    "# Best parameters\n",
    "print(\"Best Parameters:\", grid_search.best_params_)\n",
    "\n",
    "# Test set accuracy using best estimator\n",
    "best_model = grid_search.best_estimator_\n",
    "y_pred = best_model.predict(X_test)\n",
    "accuracy = accuracy_score(y_test, y_pred)\n",
    "print(f\"Test Set Accuracy: {accuracy:.2f}\")"
   ]
  }
 ],
 "metadata": {
  "kernelspec": {
   "display_name": "Python 3 (ipykernel)",
   "language": "python",
   "name": "python3"
  },
  "language_info": {
   "codemirror_mode": {
    "name": "ipython",
    "version": 3
   },
   "file_extension": ".py",
   "mimetype": "text/x-python",
   "name": "python",
   "nbconvert_exporter": "python",
   "pygments_lexer": "ipython3",
   "version": "3.12.7"
  }
 },
 "nbformat": 4,
 "nbformat_minor": 5
}
